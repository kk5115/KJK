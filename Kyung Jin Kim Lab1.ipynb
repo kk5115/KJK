{
  "nbformat": 4,
  "nbformat_minor": 0,
  "metadata": {
    "colab": {
      "name": "Lab1.ipynb",
      "provenance": [],
      "collapsed_sections": [],
      "authorship_tag": "ABX9TyM/G6dI/q/DGGjuDmhEnW7h",
      "include_colab_link": true
    },
    "kernelspec": {
      "name": "python3",
      "display_name": "Python 3"
    }
  },
  "cells": [
    {
      "cell_type": "markdown",
      "metadata": {
        "id": "view-in-github",
        "colab_type": "text"
      },
      "source": [
        "<a href=\"https://colab.research.google.com/github/kk5115/KJK/blob/master/Kyung%20Jin%20Kim%20Lab1.ipynb\" target=\"_parent\"><img src=\"https://colab.research.google.com/assets/colab-badge.svg\" alt=\"Open In Colab\"/></a>"
      ]
    },
    {
      "cell_type": "markdown",
      "metadata": {
        "id": "mCGOOP2bns4s",
        "colab_type": "text"
      },
      "source": [
        "## The *Precipitation* Level in January from 2017 to 2019 "
      ]
    },
    {
      "cell_type": "markdown",
      "metadata": {
        "colab_type": "text",
        "id": "MOHn4UAFr_I5"
      },
      "source": [
        "**Outline:**\n",
        "\n",
        "To compare and contrast the precipitation level in January, the lab will utilize the data(Janauary) from 2017 to 2019. I hypothesize that the precipitation level will rise as the evaporation rate incraeses due to the increase in the surface temperature caused by global warming. Through the analysis, the trend of all corresponding years can be visually represented. "
      ]
    },
    {
      "cell_type": "markdown",
      "metadata": {
        "id": "_2vwaAy0sKhY",
        "colab_type": "text"
      },
      "source": [
        "**Sketch**:"
      ]
    },
    {
      "cell_type": "markdown",
      "metadata": {
        "id": "t9nS58sW68ZH",
        "colab_type": "text"
      },
      "source": [
        "![대체 텍스트](https://raw.githubusercontent.com/kk5115/KJK/master/268/Screen%20Shot%202020-01-23%20at%206.14.16%20PM.png\n",
        ")"
      ]
    },
    {
      "cell_type": "markdown",
      "metadata": {
        "id": "wnqxi_T7tp9Q",
        "colab_type": "text"
      },
      "source": [
        "**Conclusion**: \n",
        "\n",
        "The sketch is not an accurate figure to determine that global warming causes an increase in precipitation level. However, the basic sketch visually helps to determine an increase in frequency when the precipitation level is approximately 1.0 in 2019. Also, the precipitation level close to 1.0 occured faster than previous years. There might be a correlation between the precipitation level and global warming.\n"
      ]
    }
  ]
}