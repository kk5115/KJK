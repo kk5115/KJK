{
  "nbformat": 4,
  "nbformat_minor": 0,
  "metadata": {
    "colab": {
      "name": "Kyung Jin Kim Lab 2",
      "provenance": [],
      "collapsed_sections": [],
      "include_colab_link": true
    },
    "kernelspec": {
      "name": "python3",
      "display_name": "Python 3"
    }
  },
  "cells": [
    {
      "cell_type": "markdown",
      "metadata": {
        "id": "view-in-github",
        "colab_type": "text"
      },
      "source": [
        "<a href=\"https://colab.research.google.com/github/kk5115/KJK/blob/master/Kyung_Jin_Kim_Lab_2.ipynb\" target=\"_parent\"><img src=\"https://colab.research.google.com/assets/colab-badge.svg\" alt=\"Open In Colab\"/></a>"
      ]
    },
    {
      "cell_type": "markdown",
      "metadata": {
        "id": "6sOc4Uyr4U-Z",
        "colab_type": "text"
      },
      "source": [
        "## Graph Types"
      ]
    },
    {
      "cell_type": "markdown",
      "metadata": {
        "id": "0zZdVLAd5CYr",
        "colab_type": "text"
      },
      "source": [
        "Creator\n",
        "* Kyung Jin Kim "
      ]
    },
    {
      "cell_type": "markdown",
      "metadata": {
        "id": "g-r6Clq45Hn4",
        "colab_type": "text"
      },
      "source": [
        "### Deviation\n"
      ]
    },
    {
      "cell_type": "markdown",
      "metadata": {
        "id": "2gorxo6E7A0t",
        "colab_type": "text"
      },
      "source": [
        "![alt text](https://raw.githubusercontent.com/kk5115/KJK/master/268/Screen%20Shot%202020-02-20%20at%205.37.13%20PM.png)\n"
      ]
    },
    {
      "cell_type": "markdown",
      "metadata": {
        "id": "w6bZ_NEi7E3w",
        "colab_type": "text"
      },
      "source": [
        "#### What is this telling us?"
      ]
    },
    {
      "cell_type": "markdown",
      "metadata": {
        "id": "95L-spaC7QHF",
        "colab_type": "text"
      },
      "source": [
        "This graph above visually represents the statistics of Penn State victories. The Lose_pts represents the sum of lost points during the game, vice versa. Penn State had two victories in seed 7 and 13. Penn State did not win by a huge difference. \n",
        "\n",
        "This graph is a deviation graph because it has a fixed point at zero. The chart is a bar chart that represents both negative and positive value. "
      ]
    },
    {
      "cell_type": "markdown",
      "metadata": {
        "id": "YgXyXjmz7cDP",
        "colab_type": "text"
      },
      "source": [
        "### Correlation\n"
      ]
    },
    {
      "cell_type": "markdown",
      "metadata": {
        "id": "SGx15rZq7hvt",
        "colab_type": "text"
      },
      "source": [
        "![alt text](https://raw.githubusercontent.com/kk5115/KJK/master/268/Picture8.png)\n"
      ]
    },
    {
      "cell_type": "markdown",
      "metadata": {
        "id": "dljjONNi7jmj",
        "colab_type": "text"
      },
      "source": [
        "#### What is this telling us?"
      ]
    },
    {
      "cell_type": "markdown",
      "metadata": {
        "id": "PwZEZrFB7laG",
        "colab_type": "text"
      },
      "source": [
        "The graph above represents the correlation between losing points and winning seeds of Big Ten. Penn State is only school that has a positive trend line because Penn State had the fewest data expect for NorthWestern, which did not have any data. The rest of Big Ten showed the correlation between losing points in the game and winning the game. To win more seeds, team had to lose less points to win. The trend lines expect Penn State has a negative slope, describing the relationship of two variables (inversely correlated).\n",
        "\n",
        "It is crucial to consider what data utilize because the data can mislead and confuse the visualization like Penn State's data. "
      ]
    },
    {
      "cell_type": "markdown",
      "metadata": {
        "id": "MqUdI-uL7r2s",
        "colab_type": "text"
      },
      "source": [
        "### Ranking\n"
      ]
    },
    {
      "cell_type": "markdown",
      "metadata": {
        "id": "AvlxCOVt7x9F",
        "colab_type": "text"
      },
      "source": [
        "![alt text](https://raw.githubusercontent.com/kk5115/KJK/master/268/Picture1.png) "
      ]
    },
    {
      "cell_type": "markdown",
      "metadata": {
        "id": "lCAYtfza7yTq",
        "colab_type": "text"
      },
      "source": [
        "#### What is this telling us?"
      ]
    },
    {
      "cell_type": "markdown",
      "metadata": {
        "id": "MyuciD277ygU",
        "colab_type": "text"
      },
      "source": [
        "The graph above represents the ranking of the total appearances of  winning team's mascot from all of the regions. The ordered column or bar graphs is organized from the most appearing mascot to the least appearing mascot. The graph indicates that the Wildcats appeared the most, meaning that the Wildcats have won the most. The graph provides ranking of not only the number of mascot appearing, but also the ranking of the teams based on the performance."
      ]
    },
    {
      "cell_type": "markdown",
      "metadata": {
        "id": "dGDGl8-G7y8Y",
        "colab_type": "text"
      },
      "source": [
        "### Distribution\n"
      ]
    },
    {
      "cell_type": "markdown",
      "metadata": {
        "id": "FB0uV-jy76p9",
        "colab_type": "text"
      },
      "source": [
        "![alt text](https://raw.githubusercontent.com/kk5115/KJK/master/268/Picture6.png)\n",
        "\n"
      ]
    },
    {
      "cell_type": "markdown",
      "metadata": {
        "id": "_6SOzhrQ76zH",
        "colab_type": "text"
      },
      "source": [
        "#### What is this telling us?"
      ]
    },
    {
      "cell_type": "markdown",
      "metadata": {
        "id": "HBWqsS_g767h",
        "colab_type": "text"
      },
      "source": [
        "The graph above is the distribution of the points scored by the winning team on the day of the game. The graph is a box and whisker plot that shows the points scored from all of the data. According to the distribution, the winning teams on Saturday score the most on Saturday games. The winning teams on Wednesday games tend to score less. The distribution is not diverse as  Thursday to Saturday games. \n",
        "\n",
        "This can be related to the number of fans present on Wednesday games compared to the number of fans on Saturday games. Other possible explanations is that people are exhausted in the middle of the week. The number of games can impact the distributions. "
      ]
    },
    {
      "cell_type": "markdown",
      "metadata": {
        "id": "wQsDThk677Fy",
        "colab_type": "text"
      },
      "source": [
        "### Change over Time\n"
      ]
    },
    {
      "cell_type": "markdown",
      "metadata": {
        "id": "Z1j_YLOA7_OK",
        "colab_type": "text"
      },
      "source": [
        "![alt text](https://raw.githubusercontent.com/kk5115/KJK/master/268/Screen%20Shot%202020-02-20%20at%2010.54.03%20PM.png)\n"
      ]
    },
    {
      "cell_type": "markdown",
      "metadata": {
        "id": "mpfsmmgi7_Vj",
        "colab_type": "text"
      },
      "source": [
        "#### What is this telling us?"
      ]
    },
    {
      "cell_type": "markdown",
      "metadata": {
        "id": "rYLXoMMO7_di",
        "colab_type": "text"
      },
      "source": [
        "The graph above represents the winning and losing seed trend of Pittsburg from 1986 to 2013. The graph represents the changing over time because the data is  chronological organized by the academic year.\n",
        "\n",
        " The noticeable \"trend\" is from 1990 to 2001. The losing seed increases linearly. However, this is misleading because there is no data between 1990 to 2001. The line graph is connecting the two dots from 1990 to 2001. \n",
        "\n",
        "The trend appears from 2010 to 2013 when Pittsburg continues to win more game. Pittsburg won the most game in 2013 and lost the fewest game in 2013. The trend can help people visualize Pittsburg's progress. "
      ]
    },
    {
      "cell_type": "markdown",
      "metadata": {
        "id": "lFwiHoE-7_jZ",
        "colab_type": "text"
      },
      "source": [
        "### Magnitude\n"
      ]
    },
    {
      "cell_type": "markdown",
      "metadata": {
        "id": "ICQFnXj78EbF",
        "colab_type": "text"
      },
      "source": [
        "![alt text](https://raw.githubusercontent.com/kk5115/KJK/master/268/Picture2.png)"
      ]
    },
    {
      "cell_type": "markdown",
      "metadata": {
        "id": "QGG7XYG88Eii",
        "colab_type": "text"
      },
      "source": [
        "#### What is this telling us?"
      ]
    },
    {
      "cell_type": "markdown",
      "metadata": {
        "id": "VS7uGa0l8Eos",
        "colab_type": "text"
      },
      "source": [
        "The graph above represents Aggie's average lost points per seasons. The graph visually represents that Aggie lost most points in 1983 and least points in 1995. The highest average value was 83.00 and the lowest lost points was 47. There is not a diverse fluctuation, meaning Aggie performs similiarly. \n",
        "\n",
        "This is a magnitude graph because consumers can visually see the difference in sizes. The y axis starts with zero. \n",
        "\n"
      ]
    },
    {
      "cell_type": "markdown",
      "metadata": {
        "id": "bEKFxP8R8Evk",
        "colab_type": "text"
      },
      "source": [
        "### Part-to-Whole\n"
      ]
    },
    {
      "cell_type": "markdown",
      "metadata": {
        "id": "WFHlcYKV8E35",
        "colab_type": "text"
      },
      "source": [
        "![alt text](https://raw.githubusercontent.com/kk5115/KJK/master/268/Picture3.png)\n"
      ]
    },
    {
      "cell_type": "markdown",
      "metadata": {
        "id": "PNSd3wlp8UZH",
        "colab_type": "text"
      },
      "source": [
        "#### What is this telling us?"
      ]
    },
    {
      "cell_type": "markdown",
      "metadata": {
        "id": "y9tb_QRA8aqt",
        "colab_type": "text"
      },
      "source": [
        "The graph above represents the part to whole. The graph is a Vienn diagram that represents the total seeds won among the Big Ten for 2016. Unfortunately, only 4 schools have relevant data to be represented on the diagram. Among the four schools, Wisconsin won the most games among the Big Ten, 16 out of 47 games. We can assume that Wisconsin had the highest ranking. "
      ]
    }
  ]
}